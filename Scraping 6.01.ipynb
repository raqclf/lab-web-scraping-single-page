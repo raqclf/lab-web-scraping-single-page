{
 "cells": [
  {
   "cell_type": "code",
   "execution_count": 355,
   "id": "96a61858",
   "metadata": {},
   "outputs": [],
   "source": [
    "from bs4 import BeautifulSoup\n",
    "import requests\n",
    "import pandas as pd"
   ]
  },
  {
   "cell_type": "code",
   "execution_count": 356,
   "id": "11ca4be1",
   "metadata": {},
   "outputs": [],
   "source": [
    "url = \"http://www.popvortex.com/music/charts/top-100-songs.php\""
   ]
  },
  {
   "cell_type": "code",
   "execution_count": 357,
   "id": "416a0de4",
   "metadata": {},
   "outputs": [
    {
     "data": {
      "text/plain": [
       "200"
      ]
     },
     "execution_count": 357,
     "metadata": {},
     "output_type": "execute_result"
    }
   ],
   "source": [
    "response = requests.get(url)\n",
    "response.status_code"
   ]
  },
  {
   "cell_type": "code",
   "execution_count": 358,
   "id": "62d17656",
   "metadata": {},
   "outputs": [],
   "source": [
    "tunes = BeautifulSoup(response.content, \"html.parser\")"
   ]
  },
  {
   "cell_type": "code",
   "execution_count": null,
   "id": "5a0191c7",
   "metadata": {},
   "outputs": [],
   "source": [
    "tunes.select(\"div.chart-content.col-xs-12.col-sm-8 > p > cite\")"
   ]
  },
  {
   "cell_type": "code",
   "execution_count": 360,
   "id": "85816c67",
   "metadata": {},
   "outputs": [],
   "source": [
    "title = []"
   ]
  },
  {
   "cell_type": "code",
   "execution_count": 361,
   "id": "b0ba32e0",
   "metadata": {},
   "outputs": [
    {
     "name": "stdout",
     "output_type": "stream",
     "text": [
      "100\n"
     ]
    }
   ],
   "source": [
    "# define the number of iterations of our for loop\n",
    "num_iter = len(tunes.select(\"div.chart-content.col-xs-12.col-sm-8 > p > cite\"))\n",
    "print(num_iter)"
   ]
  },
  {
   "cell_type": "code",
   "execution_count": null,
   "id": "ef850112",
   "metadata": {},
   "outputs": [],
   "source": [
    "# iterate through the result set and retrive all the data\n",
    "for i in range(num_iter):\n",
    "    title.append(tunes.select(\"div.chart-content.col-xs-12.col-sm-8 > p > cite\")[i].get_text())\n",
    "print(title)\n",
    "len(title)"
   ]
  },
  {
   "cell_type": "code",
   "execution_count": null,
   "id": "c583c471",
   "metadata": {},
   "outputs": [],
   "source": [
    "tunes.select(\"div.chart-content.col-xs-12.col-sm-8 > p > em\")"
   ]
  },
  {
   "cell_type": "code",
   "execution_count": 364,
   "id": "72c5c004",
   "metadata": {},
   "outputs": [],
   "source": [
    "singer = []"
   ]
  },
  {
   "cell_type": "code",
   "execution_count": 365,
   "id": "3f627654",
   "metadata": {},
   "outputs": [
    {
     "name": "stdout",
     "output_type": "stream",
     "text": [
      "100\n"
     ]
    }
   ],
   "source": [
    "num_iter2 = len(tunes.select(\"div.chart-content.col-xs-12.col-sm-8 > p > em\"))\n",
    "print(num_iter2)"
   ]
  },
  {
   "cell_type": "code",
   "execution_count": null,
   "id": "38a07df6",
   "metadata": {},
   "outputs": [],
   "source": [
    "# iterate through the result set and retrive all the data\n",
    "for i in range(num_iter2):\n",
    "    singer.append(tunes.select(\"div.chart-content.col-xs-12.col-sm-8 > p > em\")[i].get_text())\n",
    "print(singer)\n",
    "len(singer)"
   ]
  },
  {
   "cell_type": "code",
   "execution_count": 367,
   "id": "6d499e87",
   "metadata": {},
   "outputs": [],
   "source": [
    "# each list becomes a column\n",
    "itunes = pd.DataFrame({\"title\":title,\n",
    "                       \"singer\":singer,\n",
    "                      })"
   ]
  },
  {
   "cell_type": "code",
   "execution_count": 368,
   "id": "6b62a2c7",
   "metadata": {},
   "outputs": [
    {
     "data": {
      "text/html": [
       "<div>\n",
       "<style scoped>\n",
       "    .dataframe tbody tr th:only-of-type {\n",
       "        vertical-align: middle;\n",
       "    }\n",
       "\n",
       "    .dataframe tbody tr th {\n",
       "        vertical-align: top;\n",
       "    }\n",
       "\n",
       "    .dataframe thead th {\n",
       "        text-align: right;\n",
       "    }\n",
       "</style>\n",
       "<table border=\"1\" class=\"dataframe\">\n",
       "  <thead>\n",
       "    <tr style=\"text-align: right;\">\n",
       "      <th></th>\n",
       "      <th>title</th>\n",
       "      <th>singer</th>\n",
       "    </tr>\n",
       "  </thead>\n",
       "  <tbody>\n",
       "    <tr>\n",
       "      <th>0</th>\n",
       "      <td>That That (prod. &amp; feat. SUGA of BTS)</td>\n",
       "      <td>PSY</td>\n",
       "    </tr>\n",
       "    <tr>\n",
       "      <th>1</th>\n",
       "      <td>As It Was</td>\n",
       "      <td>Harry Styles</td>\n",
       "    </tr>\n",
       "    <tr>\n",
       "      <th>2</th>\n",
       "      <td>First Class</td>\n",
       "      <td>Jack Harlow</td>\n",
       "    </tr>\n",
       "    <tr>\n",
       "      <th>3</th>\n",
       "      <td>About Damn Time</td>\n",
       "      <td>Lizzo</td>\n",
       "    </tr>\n",
       "    <tr>\n",
       "      <th>4</th>\n",
       "      <td>Kryptonite</td>\n",
       "      <td>3 Doors Down</td>\n",
       "    </tr>\n",
       "    <tr>\n",
       "      <th>...</th>\n",
       "      <td>...</td>\n",
       "      <td>...</td>\n",
       "    </tr>\n",
       "    <tr>\n",
       "      <th>95</th>\n",
       "      <td>Mama He's Crazy</td>\n",
       "      <td>The Judds</td>\n",
       "    </tr>\n",
       "    <tr>\n",
       "      <th>96</th>\n",
       "      <td>The Stroke</td>\n",
       "      <td>Billy Squier</td>\n",
       "    </tr>\n",
       "    <tr>\n",
       "      <th>97</th>\n",
       "      <td>Big Energy</td>\n",
       "      <td>Latto</td>\n",
       "    </tr>\n",
       "    <tr>\n",
       "      <th>98</th>\n",
       "      <td>N.Y. State of Mind</td>\n",
       "      <td>Nas</td>\n",
       "    </tr>\n",
       "    <tr>\n",
       "      <th>99</th>\n",
       "      <td>With you</td>\n",
       "      <td>Jimin &amp; HA SUNG WOON</td>\n",
       "    </tr>\n",
       "  </tbody>\n",
       "</table>\n",
       "<p>100 rows × 2 columns</p>\n",
       "</div>"
      ],
      "text/plain": [
       "                                    title                singer\n",
       "0   That That (prod. & feat. SUGA of BTS)                   PSY\n",
       "1                               As It Was          Harry Styles\n",
       "2                             First Class           Jack Harlow\n",
       "3                         About Damn Time                 Lizzo\n",
       "4                              Kryptonite          3 Doors Down\n",
       "..                                    ...                   ...\n",
       "95                        Mama He's Crazy             The Judds\n",
       "96                             The Stroke          Billy Squier\n",
       "97                             Big Energy                 Latto\n",
       "98                     N.Y. State of Mind                   Nas\n",
       "99                               With you  Jimin & HA SUNG WOON\n",
       "\n",
       "[100 rows x 2 columns]"
      ]
     },
     "execution_count": 368,
     "metadata": {},
     "output_type": "execute_result"
    }
   ],
   "source": [
    "itunes"
   ]
  },
  {
   "cell_type": "code",
   "execution_count": null,
   "id": "53b0c3a9",
   "metadata": {},
   "outputs": [],
   "source": []
  }
 ],
 "metadata": {
  "kernelspec": {
   "display_name": "Python 3 (ipykernel)",
   "language": "python",
   "name": "python3"
  },
  "language_info": {
   "codemirror_mode": {
    "name": "ipython",
    "version": 3
   },
   "file_extension": ".py",
   "mimetype": "text/x-python",
   "name": "python",
   "nbconvert_exporter": "python",
   "pygments_lexer": "ipython3",
   "version": "3.9.7"
  }
 },
 "nbformat": 4,
 "nbformat_minor": 5
}
